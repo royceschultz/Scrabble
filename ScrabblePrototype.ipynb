{
 "cells": [
  {
   "cell_type": "code",
   "execution_count": null,
   "metadata": {},
   "outputs": [],
   "source": [
    "import os\n",
    "import sys\n",
    "module_path = os.path.abspath(os.path.join('Workspace/Scrabble'))\n",
    "print(module_path)\n",
    "if module_path not in sys.path:\n",
    "    sys.path.append(module_path)"
   ]
  },
  {
   "cell_type": "code",
   "execution_count": 2,
   "metadata": {},
   "outputs": [],
   "source": [
    "from src.Game import Game"
   ]
  },
  {
   "cell_type": "code",
   "execution_count": 3,
   "metadata": {},
   "outputs": [
    {
     "name": "stdout",
     "output_type": "stream",
     "text": [
      " tw   .    .    .    .    .    .    tw   .    .    .    .    .    .    tw  \n",
      " .    dw   .    .    .    .    .    .    .    .    .    .    .    .    .   \n",
      " .    .    dw   .    .    .    .    .    .    .    .    .    .    .    .   \n",
      " .    .    .    .    .    .    .    .    .    .    .    .    .    .    .   \n",
      " .    .    .    .    .    .    .    .    .    .    .    .    .    .    .   \n",
      " .    .    .    .    .    .    .    .    .    .    .    .    .    .    .   \n",
      " .    .    .    .    .    .    .    .    .    .    .    .    .    .    .   \n",
      " tw   .    .    .    .    .    .    ctr  .    .    .    .    .    .    tw  \n",
      " .    .    .    .    .    .    .    .    .    .    .    .    .    .    .   \n",
      " .    .    .    .    .    .    .    .    .    .    .    .    .    .    .   \n",
      " .    .    .    .    .    .    .    .    .    .    .    .    .    .    .   \n",
      " .    .    .    .    .    .    .    .    .    .    .    .    .    .    .   \n",
      " .    .    .    .    .    .    .    .    .    .    .    .    .    .    .   \n",
      " .    .    .    .    .    .    .    .    .    .    .    .    .    .    .   \n",
      " tw   .    .    .    .    .    .    tw   .    .    .    .    .    .    tw  \n",
      "\n",
      "Scoreboard:\n",
      "0 P1\n",
      "0 P2\n",
      "Current Player: P1\n",
      "Player Rack: taneloj\n"
     ]
    }
   ],
   "source": [
    "game = Game()"
   ]
  },
  {
   "cell_type": "code",
   "execution_count": 5,
   "metadata": {},
   "outputs": [
    {
     "name": "stdout",
     "output_type": "stream",
     "text": [
      "Scanning (7, 7) in direction: h\n",
      "found t for 1 points with bonuses: {(7, 7): 'ctr bonus for t'}\n",
      "Scanning (7, 7) in direction: v\n",
      "found ta for 2 points with bonuses: {(7, 7): 'ctr bonus for t', (7, 8): 'None bonus for a'}\n",
      "Scanning (7, 8) in direction: h\n",
      "found a for 1 points with bonuses: {(7, 8): 'None bonus for a'}\n",
      "found ['ta'] for [2] points\n",
      "{'h': 2, 'v': 1}\n",
      " tw   .    .    .    .    .    .    tw   .    .    .    .    .    .    tw  \n",
      " .    dw   .    .    .    .    .    .    .    .    .    .    .    .    .   \n",
      " .    .    dw   .    .    .    .    .    .    .    .    .    .    .    .   \n",
      " .    .    .    .    .    .    .    .    .    .    .    .    .    .    .   \n",
      " .    .    .    .    .    .    .    .    .    .    .    .    .    .    .   \n",
      " .    .    .    .    .    .    .    .    .    .    .    .    .    .    .   \n",
      " .    .    .    .    .    .    .    .    .    .    .    .    .    .    .   \n",
      " tw   .    .    .    .    .    .    t    a    .    .    .    .    .    tw  \n",
      " .    .    .    .    .    .    .    .    .    .    .    .    .    .    .   \n",
      " .    .    .    .    .    .    .    .    .    .    .    .    .    .    .   \n",
      " .    .    .    .    .    .    .    .    .    .    .    .    .    .    .   \n",
      " .    .    .    .    .    .    .    .    .    .    .    .    .    .    .   \n",
      " .    .    .    .    .    .    .    .    .    .    .    .    .    .    .   \n",
      " .    .    .    .    .    .    .    .    .    .    .    .    .    .    .   \n",
      " tw   .    .    .    .    .    .    tw   .    .    .    .    .    .    tw  \n",
      "\n",
      "Scoreboard:\n",
      "2 P1\n",
      "0 P2\n",
      "Current Player: P2\n",
      "Player Rack: kvvaabn\n"
     ]
    }
   ],
   "source": [
    "game.play('P1', {(7,7):'t', (7,8):'a'})"
   ]
  },
  {
   "cell_type": "code",
   "execution_count": 6,
   "metadata": {},
   "outputs": [
    {
     "name": "stdout",
     "output_type": "stream",
     "text": [
      "Scanning (8, 7) in direction: h\n",
      "found tk for 6 points with bonuses: {(8, 7): 'None bonus for k'}\n",
      "Scanning (8, 7) in direction: v\n",
      "found k for 5 points with bonuses: {(8, 7): 'None bonus for k'}\n",
      "found ['tk'] for [6] points\n",
      "{'h': 1, 'v': 1}\n",
      " tw   .    .    .    .    .    .    tw   .    .    .    .    .    .    tw  \n",
      " .    dw   .    .    .    .    .    .    .    .    .    .    .    .    .   \n",
      " .    .    dw   .    .    .    .    .    .    .    .    .    .    .    .   \n",
      " .    .    .    .    .    .    .    .    .    .    .    .    .    .    .   \n",
      " .    .    .    .    .    .    .    .    .    .    .    .    .    .    .   \n",
      " .    .    .    .    .    .    .    .    .    .    .    .    .    .    .   \n",
      " .    .    .    .    .    .    .    .    .    .    .    .    .    .    .   \n",
      " tw   .    .    .    .    .    .    t    a    .    .    .    .    .    tw  \n",
      " .    .    .    .    .    .    .    k    .    .    .    .    .    .    .   \n",
      " .    .    .    .    .    .    .    .    .    .    .    .    .    .    .   \n",
      " .    .    .    .    .    .    .    .    .    .    .    .    .    .    .   \n",
      " .    .    .    .    .    .    .    .    .    .    .    .    .    .    .   \n",
      " .    .    .    .    .    .    .    .    .    .    .    .    .    .    .   \n",
      " .    .    .    .    .    .    .    .    .    .    .    .    .    .    .   \n",
      " tw   .    .    .    .    .    .    tw   .    .    .    .    .    .    tw  \n",
      "\n",
      "Scoreboard:\n",
      "2 P1\n",
      "6 P2\n",
      "Current Player: P1\n",
      "Player Rack: tnelooj\n"
     ]
    }
   ],
   "source": [
    "game.play('P2', {(8,7): 'k'})"
   ]
  },
  {
   "cell_type": "code",
   "execution_count": 10,
   "metadata": {},
   "outputs": [
    {
     "name": "stdout",
     "output_type": "stream",
     "text": [
      "Scanning (7, 10) in direction: h\n",
      "found t for 1 points with bonuses: {(7, 10): 'None bonus for t'}\n",
      "Scanning (7, 10) in direction: v\n",
      "found t for 1 points with bonuses: {(7, 10): 'None bonus for t'}\n"
     ]
    },
    {
     "ename": "AssertionError",
     "evalue": "",
     "output_type": "error",
     "traceback": [
      "\u001b[0;31m---------------------------------------------------------------------------\u001b[0m",
      "\u001b[0;31mAssertionError\u001b[0m                            Traceback (most recent call last)",
      "\u001b[0;32m<ipython-input-10-ab01d3cda806>\u001b[0m in \u001b[0;36m<module>\u001b[0;34m\u001b[0m\n\u001b[0;32m----> 1\u001b[0;31m \u001b[0mgame\u001b[0m\u001b[0;34m.\u001b[0m\u001b[0mplay\u001b[0m\u001b[0;34m(\u001b[0m\u001b[0;34m'P1'\u001b[0m\u001b[0;34m,\u001b[0m\u001b[0;34m{\u001b[0m\u001b[0;34m(\u001b[0m\u001b[0;36m7\u001b[0m\u001b[0;34m,\u001b[0m\u001b[0;36m10\u001b[0m\u001b[0;34m)\u001b[0m\u001b[0;34m:\u001b[0m\u001b[0;34m't'\u001b[0m\u001b[0;34m}\u001b[0m\u001b[0;34m)\u001b[0m\u001b[0;34m\u001b[0m\u001b[0;34m\u001b[0m\u001b[0m\n\u001b[0m",
      "\u001b[0;32m~/Workspace/Scrabble/src/Game.py\u001b[0m in \u001b[0;36mplay\u001b[0;34m(self, player, move)\u001b[0m\n\u001b[1;32m    141\u001b[0m                     \u001b[0;32mbreak\u001b[0m\u001b[0;34m\u001b[0m\u001b[0;34m\u001b[0m\u001b[0m\n\u001b[1;32m    142\u001b[0m         \u001b[0;31m# Check the word either includes the center tile or is branched off an existing word\u001b[0m\u001b[0;34m\u001b[0m\u001b[0;34m\u001b[0m\u001b[0;34m\u001b[0m\u001b[0m\n\u001b[0;32m--> 143\u001b[0;31m         \u001b[0;32massert\u001b[0m \u001b[0mflag\u001b[0m\u001b[0;34m\u001b[0m\u001b[0;34m\u001b[0m\u001b[0m\n\u001b[0m\u001b[1;32m    144\u001b[0m         \u001b[0mprint\u001b[0m\u001b[0;34m(\u001b[0m\u001b[0;34m'found'\u001b[0m\u001b[0;34m,\u001b[0m\u001b[0mwords\u001b[0m\u001b[0;34m,\u001b[0m\u001b[0;34m'for'\u001b[0m\u001b[0;34m,\u001b[0m\u001b[0mscores\u001b[0m\u001b[0;34m,\u001b[0m\u001b[0;34m'points'\u001b[0m\u001b[0;34m)\u001b[0m\u001b[0;34m\u001b[0m\u001b[0;34m\u001b[0m\u001b[0m\n\u001b[1;32m    145\u001b[0m         \u001b[0mprint\u001b[0m\u001b[0;34m(\u001b[0m\u001b[0mtimes_scanned\u001b[0m\u001b[0;34m)\u001b[0m\u001b[0;34m\u001b[0m\u001b[0;34m\u001b[0m\u001b[0m\n",
      "\u001b[0;31mAssertionError\u001b[0m: "
     ]
    }
   ],
   "source": [
    "game.play('P1',{(7,10):'t'})"
   ]
  },
  {
   "cell_type": "code",
   "execution_count": null,
   "metadata": {},
   "outputs": [],
   "source": [
    "assert False"
   ]
  },
  {
   "cell_type": "code",
   "execution_count": null,
   "metadata": {},
   "outputs": [],
   "source": []
  },
  {
   "cell_type": "code",
   "execution_count": null,
   "metadata": {},
   "outputs": [],
   "source": [
    "import random\n",
    "\n",
    "class SparseMatrix(dict):\n",
    "    def __init__(self):\n",
    "        super()\n",
    "    \n",
    "    def get_axis(self, axis):\n",
    "        return [i[axis] for i in self.keys()]\n",
    "    \n",
    "    def __repr__(self, default={}):\n",
    "        rep = ''\n",
    "        xs = self.get_axis(0) + [0]\n",
    "        ys = self.get_axis(1) + [0]\n",
    "        x_range = max(xs) - min(xs)\n",
    "        y_range = max(ys) - min(ys)\n",
    "        if max(x_range, y_range) < 20:\n",
    "            for i in range(min(xs), max(xs) + 1):\n",
    "                for j in range(min(ys), max(ys) + 1):\n",
    "                    rep += self.get((i,j),default.get((i,j),'.'))\n",
    "                rep += '\\n'\n",
    "        return rep"
   ]
  },
  {
   "cell_type": "code",
   "execution_count": null,
   "metadata": {},
   "outputs": [],
   "source": [
    "class Bag:\n",
    "    def __init__(self):\n",
    "        letters = 'qwertyuiopasdfghjklzxcvbnm'\n",
    "        self.letters = letters\n",
    "    \n",
    "    def draw(self, n=1):\n",
    "        pass\n",
    "    \n",
    "class Dictionary:\n",
    "    def __init__(self):\n",
    "        pass\n",
    "    def is_word(self, x):\n",
    "        return x in ['hello','world','ab']\n",
    "    \n",
    "class Player:\n",
    "    def __init__(self, name):\n",
    "        self.name = name\n",
    "        self.rack = ''\n",
    "    \n",
    "class Players:\n",
    "    def __init__(self, players):\n",
    "        self.players = [Player(p) for p in players]\n",
    "        self.turn = 0\n",
    "    \n",
    "    def current_player(self):\n",
    "        return self.players[self.turn]\n",
    "    \n",
    "    def next_turn(self):\n",
    "        self.turn += 1\n",
    "        self.turn %= len(self.players)\n",
    "        return self.current_player()\n",
    "\n",
    "class Game:\n",
    "    def __init__(self, players=['P1','P2']):\n",
    "        self.size = 10\n",
    "        self.board = {}\n",
    "        self.bonuses = {(1,1): 'dw',(1,2): 'dl'}\n",
    "        self.bag = Bag()\n",
    "        self.dictionary = Dictionary()\n",
    "        self.players = Players(players)\n",
    "        self.points = {\n",
    "            'a': 1,\n",
    "            'b': 1,\n",
    "            'c': 1,\n",
    "            'h': 1,\n",
    "        }\n",
    "    \n",
    "    def parse_bonus(self, bonus):\n",
    "        if bonus == 'dl':\n",
    "            return 2,1\n",
    "        if bonus == 'tl':\n",
    "            return 3,1\n",
    "        if bonus == 'dw':\n",
    "            return 1,2\n",
    "        if bonus == 'tw':\n",
    "            return 1,3\n",
    "        return 1,1\n",
    "            \n",
    "    def scan_move(self, start_coord, direction, move):\n",
    "        x,y = start_coord\n",
    "        Directions = {'h':[1,0],'v':[0,1]}\n",
    "        dx, dy = Directions.get(direction, direction)\n",
    "        # Go to the first letter of the word given the direction\n",
    "        while (x-dx, y-dy) in self.board or (x-dx, y-dy) in move:\n",
    "            x -= dx\n",
    "            y -= dy\n",
    "        word = ''\n",
    "        score = 0\n",
    "        total_word_scale = 1\n",
    "        scanned_coords = []\n",
    "        num_tiles_from_move = 0\n",
    "        # Now read through the word in order\n",
    "        p = (x,y)\n",
    "        while p in self.board or p in move:\n",
    "            # Check tile is not already filled\n",
    "            if p in self.board and p in move:\n",
    "                print(f'Tried to play {move[p]} at {p}')\n",
    "                print(f'Spot already filled by {self.board[p]} at {p}')\n",
    "                assert False\n",
    "            if p in self.board:\n",
    "                letter = self.board[p]\n",
    "                word += letter\n",
    "                score += self.points.get(letter,0)\n",
    "            if p in move:\n",
    "                letter = move[p]\n",
    "                word += letter\n",
    "                bonus = self.bonuses.get(p)\n",
    "                letter_scale, word_scale = self.parse_bonus(bonus)\n",
    "                score += letter_scale * self.points.get(letter, 0)\n",
    "                total_word_scale *= word_scale\n",
    "                num_tiles_from_move += 1\n",
    "            scanned_coords.append(p)\n",
    "            x,y = p\n",
    "            x += dx\n",
    "            y += dy\n",
    "            p = (x,y)\n",
    "        score *= total_word_scale\n",
    "        print(f'found {num_tiles_from_move} tile from move')\n",
    "        print(f'found {word} for {score} points')\n",
    "        return word, scanned_coords, score\n",
    "        \n",
    "    def play(self, player, move):\n",
    "        # Check it is the players turn\n",
    "        assert player == self.players.current_player().name\n",
    "        # Check player has the letters in their rack\n",
    "#         for letter in move.values():\n",
    "#             assert letter in self.players.current_player().rack\n",
    "            \n",
    "        xs = [i[0] for i in move.keys()]\n",
    "        ys = [i[1] for i in move.keys()]\n",
    "        # Check played tiles are on the board bounds\n",
    "        assert all(x >= 0 for x in xs)\n",
    "        assert all(x < self.size for x in xs)\n",
    "        assert all(y >= 0 for y in ys)\n",
    "        assert all(y < self.size for y in ys)\n",
    "        \n",
    "        # Find words for each played tile\n",
    "        scanned = {'h': {}, 'v':{}}\n",
    "        times_scanned = {'h':0,'v':0}\n",
    "        words = []\n",
    "        scores = []\n",
    "        for pos in move:\n",
    "            for d in scanned.keys(): # for direction in ['h','v']\n",
    "                if pos not in scanned[d]:\n",
    "                    print(f'Scanning {pos} in direction: {d}')\n",
    "                    times_scanned[d] += 1\n",
    "                    word, scanned_coords, score = self.scan_move(pos, d, move)\n",
    "                    for s in scanned_coords:\n",
    "                        scanned[d][s] = True\n",
    "                    if len(word) > 1:\n",
    "                        words.append(word)\n",
    "                        scores.append(score)\n",
    "        print('found',words,'for',scores,'points')\n",
    "        print(times_scanned)\n",
    "        # Check word is played in a continuous line\n",
    "        assert 1 in times_scanned.values()\n",
    "        \n",
    "        # Check at least 1 word was found\n",
    "        assert len(words) > 0\n",
    "        # Check each word is a real word\n",
    "        for word in words:\n",
    "            assert self.dictionary.is_word(word)\n",
    "            \n",
    "        # Find score of word\n",
    "        # Place tiles on board\n",
    "        # remove from player rack\n",
    "        # advance to the next player\n",
    "        self.players.next_turn()\n",
    "                    \n",
    "game = Game()\n",
    "game.play('P1', {(1,1):'a', (1,2):'b'})"
   ]
  },
  {
   "cell_type": "code",
   "execution_count": null,
   "metadata": {},
   "outputs": [],
   "source": [
    "valid_move = {\n",
    "    (1,1): 'h',\n",
    "    (1,2): 'e',\n",
    "    (1,3): 'l',\n",
    "    (1,4): 'l',\n",
    "    (1,5): 'o',\n",
    "}\n",
    "invalid_move = {\n",
    "    (1,1): 'h',\n",
    "    (1,2): 'e',\n",
    "    (1,3): 'l',\n",
    "    (1,4): 'l',\n",
    "    (1,6): 'o',\n",
    "}"
   ]
  },
  {
   "cell_type": "code",
   "execution_count": null,
   "metadata": {},
   "outputs": [],
   "source": [
    "game.play('P2',valid_move)"
   ]
  },
  {
   "cell_type": "code",
   "execution_count": null,
   "metadata": {},
   "outputs": [],
   "source": [
    "game.play('P1',invalid_move)"
   ]
  }
 ],
 "metadata": {
  "kernelspec": {
   "display_name": "Python 3",
   "language": "python",
   "name": "python3"
  },
  "language_info": {
   "codemirror_mode": {
    "name": "ipython",
    "version": 3
   },
   "file_extension": ".py",
   "mimetype": "text/x-python",
   "name": "python",
   "nbconvert_exporter": "python",
   "pygments_lexer": "ipython3",
   "version": "3.8.5"
  }
 },
 "nbformat": 4,
 "nbformat_minor": 4
}
