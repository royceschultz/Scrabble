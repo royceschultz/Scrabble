{
 "cells": [
  {
   "cell_type": "code",
   "execution_count": 48,
   "metadata": {},
   "outputs": [],
   "source": [
    "import psycopg2 as pg\n",
    "import json"
   ]
  },
  {
   "cell_type": "code",
   "execution_count": 82,
   "metadata": {},
   "outputs": [],
   "source": [
    "def runQuery(query, con, response=False):\n",
    "    try:\n",
    "        cur = con.cursor()\n",
    "        cur.execute(query)\n",
    "        if response:\n",
    "            cols = [desc[0] for desc in cur.description]\n",
    "            rows = cur.fetchall()\n",
    "        cur.close()\n",
    "        if response:\n",
    "            return rows, cols\n",
    "        else: return\n",
    "    except (Exception, pg.DatabaseError) as error:\n",
    "        print(error)"
   ]
  },
  {
   "cell_type": "code",
   "execution_count": 191,
   "metadata": {},
   "outputs": [],
   "source": [
    "con = pg.connect(host='mydatabase.c2z535twmu4p.us-west-2.rds.amazonaws.com',\n",
    "                 database='postgres',\n",
    "                 user='postgres',\n",
    "                 password='password',\n",
    "                 port = '5432',\n",
    "                 connect_timeout=3,\n",
    "                )\n",
    "\n",
    "create_game_table = '''\n",
    "CREATE TABLE IF NOT EXISTS games (\n",
    "    game_id varchar(32) NOT NULL PRIMARY KEY,\n",
    "    game_state json NOT NULL\n",
    ");\n",
    "'''\n",
    "\n",
    "create_user_table = '''\n",
    "CREATE TABLE IF NOT EXISTS users (\n",
    "    user_id varchar(32) NOT NULL PRIMARY KEY,\n",
    "    user_info json\n",
    ");\n",
    "'''\n",
    "\n",
    "create_session_table = '''\n",
    "CREATE TABLE IF NOT EXISTS sessions (\n",
    "    game_id varchar(32) NOT NULL,\n",
    "    user_id varchar(32) NOT NULL,\n",
    "    FOREIGN KEY (game_id) REFERENCES games(game_id) ON DELETE CASCADE ON UPDATE CASCADE,\n",
    "    FOREIGN KEY (user_id) REFERENCES users(user_id) ON DELETE CASCADE ON UPDATE CASCADE,\n",
    "    PRIMARY KEY (game_id, user_id)\n",
    ");\n",
    "CREATE INDEX game_id on sessions(game_id);\n",
    "'''\n",
    "runQuery(create_game_table, con)\n",
    "runQuery(create_user_table, con)\n",
    "runQuery(create_session_table, con)\n"
   ]
  },
  {
   "cell_type": "code",
   "execution_count": 192,
   "metadata": {},
   "outputs": [
    {
     "data": {
      "text/plain": [
       "([], ['game_id', 'user_id'])"
      ]
     },
     "execution_count": 192,
     "metadata": {},
     "output_type": "execute_result"
    }
   ],
   "source": [
    "runQuery('SELECT * from sessions', con, response=True)"
   ]
  },
  {
   "cell_type": "code",
   "execution_count": 193,
   "metadata": {},
   "outputs": [],
   "source": [
    "def sql_insert(table, columns, rows):\n",
    "    return f'''\n",
    "    INSERT INTO {table} ({','.join(columns)})\n",
    "    VALUES {','.join(['(' + ','.join([f\"'{cell}'\" for cell in row]) + ')' for row in rows])}\n",
    "    '''\n",
    "\n",
    "def sql_select(table, columns):\n",
    "    return f\"SELECT {','.join(columns)} from {table}\""
   ]
  },
  {
   "cell_type": "code",
   "execution_count": 194,
   "metadata": {},
   "outputs": [
    {
     "data": {
      "text/plain": [
       "([('aUser', None), ('Mike', None), ('Tom', None)], ['user_id', 'user_info'])"
      ]
     },
     "execution_count": 194,
     "metadata": {},
     "output_type": "execute_result"
    }
   ],
   "source": [
    "runQuery(sql_insert('users', ['user_id'], [[x] for x in ['aUser','Mike','Tom']]), con)\n",
    "runQuery(sql_select('users','*'), con, response=True)"
   ]
  },
  {
   "cell_type": "code",
   "execution_count": 195,
   "metadata": {},
   "outputs": [
    {
     "data": {
      "text/plain": [
       "([('aGame', {}), ('1234', {}), ('abcd', {})], ['game_id', 'game_state'])"
      ]
     },
     "execution_count": 195,
     "metadata": {},
     "output_type": "execute_result"
    }
   ],
   "source": [
    "runQuery(sql_insert('games', ['game_id', 'game_state'], [[x, json.dumps({})] for x in ['aGame','1234','abcd']]), con)\n",
    "runQuery(sql_select('games','*'), con, response=True)"
   ]
  },
  {
   "cell_type": "code",
   "execution_count": 196,
   "metadata": {},
   "outputs": [
    {
     "data": {
      "text/plain": [
       "([('aGame', 'aUser'), ('1234', 'aUser'), ('abcd', 'aUser')],\n",
       " ['game_id', 'user_id'])"
      ]
     },
     "execution_count": 196,
     "metadata": {},
     "output_type": "execute_result"
    }
   ],
   "source": [
    "runQuery(sql_insert('sessions', ['user_id', 'game_id'], [['aUser', x] for x in ['aGame','1234','abcd']]), con)\n",
    "runQuery(sql_select('sessions','*'), con, response=True)"
   ]
  },
  {
   "cell_type": "code",
   "execution_count": 197,
   "metadata": {},
   "outputs": [
    {
     "data": {
      "text/plain": [
       "([('aUser', 'aGame'), ('aUser', '1234'), ('aUser', 'abcd')],\n",
       " ['user_id', 'game_id'])"
      ]
     },
     "execution_count": 197,
     "metadata": {},
     "output_type": "execute_result"
    }
   ],
   "source": [
    "runQuery('''\n",
    "SELECT sessions.user_id, game_id from sessions\n",
    "INNER JOIN users on users.user_id=sessions.user_id\n",
    "''', con, response=True)"
   ]
  },
  {
   "cell_type": "code",
   "execution_count": 100,
   "metadata": {},
   "outputs": [],
   "source": [
    "con.close()"
   ]
  },
  {
   "cell_type": "code",
   "execution_count": 74,
   "metadata": {},
   "outputs": [],
   "source": [
    "con.commit()"
   ]
  },
  {
   "cell_type": "code",
   "execution_count": null,
   "metadata": {},
   "outputs": [],
   "source": []
  }
 ],
 "metadata": {
  "kernelspec": {
   "display_name": "Python 3",
   "language": "python",
   "name": "python3"
  },
  "language_info": {
   "codemirror_mode": {
    "name": "ipython",
    "version": 3
   },
   "file_extension": ".py",
   "mimetype": "text/x-python",
   "name": "python",
   "nbconvert_exporter": "python",
   "pygments_lexer": "ipython3",
   "version": "3.8.5"
  }
 },
 "nbformat": 4,
 "nbformat_minor": 4
}
